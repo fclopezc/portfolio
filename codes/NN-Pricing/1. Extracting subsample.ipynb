{
 "cells": [
  {
   "cell_type": "code",
   "execution_count": 1,
   "metadata": {},
   "outputs": [],
   "source": [
    "import numpy as np\n",
    "import pandas as pd\n",
    "import matplotlib.pyplot as plt\n",
    "import os\n",
    "import gc # garbage collection module to release memory usage in time\n",
    "import time\n",
    "import warnings\n",
    "\n",
    "os.chdir(r'C:\\Users\\frank\\OneDrive - Escuela Superior de Economia y Negocios\\2. SS 2024\\ML Seminar\\data\\others')\n",
    "\n",
    "warnings.filterwarnings('ignore')\n",
    "\n",
    "%matplotlib inline"
   ]
  },
  {
   "cell_type": "code",
   "execution_count": 2,
   "metadata": {},
   "outputs": [],
   "source": [
    "# load firm characteristics data\n",
    "data_ch = pd.read_csv('datashare_2020.csv')"
   ]
  },
  {
   "cell_type": "code",
   "execution_count": 3,
   "metadata": {},
   "outputs": [],
   "source": [
    "data_ch_sample = data_ch.copy()"
   ]
  },
  {
   "cell_type": "code",
   "execution_count": 4,
   "metadata": {},
   "outputs": [],
   "source": [
    "cols_to_convert = data_ch_sample.columns.difference(['DATE', 'RET'])"
   ]
  },
  {
   "cell_type": "code",
   "execution_count": 5,
   "metadata": {},
   "outputs": [],
   "source": [
    "data_ch_sample[cols_to_convert] = data_ch_sample[cols_to_convert].astype('float32')"
   ]
  },
  {
   "cell_type": "code",
   "execution_count": 6,
   "metadata": {},
   "outputs": [],
   "source": [
    "# start date and end date of the sample\n",
    "#stdt, nddt = 20010101, 20191231\n",
    "stdt, nddt = 19570101, 20161231\n",
    "data_ch_sample = data_ch_sample[(data_ch_sample['DATE']>=stdt)&(data_ch_sample['DATE']<=nddt)].reset_index(drop=True)"
   ]
  },
  {
   "cell_type": "code",
   "execution_count": 7,
   "metadata": {},
   "outputs": [],
   "source": [
    "columns_to_remove = ['cinvest', 'lev', 'cashdebt', 'saleinv', 'dy', 'realestate', 'ms', 'cfp', 'pchdepr', 'invest', 'chempia', 'pchsale_pchinvt', 'pchquick', 'grcapx', 'stdcf', 'chcsho', 'ps', 'std_dolvol', 'herf', 'stdacc', 'chpmia', 'pctacc', 'pricedelay', 'depr', 'rsup', 'sgr', 'chtx', 'currat', 'tang', 'pchsaleinv', 'convind', 'secured', 'rd_mve', 'divi', 'tb', 'pchcurrat', 'orgcap', 'securedind', 'roeq', 'grltnoa', 'divo', 'quick', 'cashpr', 'gma', 'salecash', 'rd_sale', 'chinv', 'roaq', 'cash', 'acc', 'operprof', 'pchsale_pchrect', 'roic', 'salerec', 'pchcapx_ia', 'pchgm_pchsale', 'ear', 'lgr', 'cfp_ia', 'mve_ia', 'pchsale_pchxsga', 'aeavol', 'bm_ia', 'age', 'roavol', 'rd', 'chatoia', 'absacc', 'hire', 'egr', 'sin']\n",
    "\n",
    "data_ch_sample = data_ch_sample.drop(columns=columns_to_remove)"
   ]
  },
  {
   "cell_type": "code",
   "execution_count": 8,
   "metadata": {},
   "outputs": [
    {
     "name": "stdout",
     "output_type": "stream",
     "text": [
      "permno       float32\n",
      "DATE           int64\n",
      "mvel1        float32\n",
      "RET          float64\n",
      "prc          float32\n",
      "SHROUT       float32\n",
      "beta         float32\n",
      "betasq       float32\n",
      "chmom        float32\n",
      "dolvol       float32\n",
      "idiovol      float32\n",
      "indmom       float32\n",
      "mom1m        float32\n",
      "mom6m        float32\n",
      "mom12m       float32\n",
      "mom36m       float32\n",
      "mve0         float32\n",
      "turn         float32\n",
      "agr          float32\n",
      "ep           float32\n",
      "sp           float32\n",
      "nincr        float32\n",
      "baspread     float32\n",
      "ill          float32\n",
      "maxret       float32\n",
      "retvol       float32\n",
      "std_turn     float32\n",
      "zerotrade    float32\n",
      "sic2         float32\n",
      "bm           float32\n",
      "dtype: object\n"
     ]
    }
   ],
   "source": [
    "print(data_ch_sample.dtypes)"
   ]
  },
  {
   "cell_type": "code",
   "execution_count": 9,
   "metadata": {},
   "outputs": [],
   "source": [
    "save_path = r'C:\\Users\\frank\\OneDrive - Escuela Superior de Economia y Negocios\\2. SS 2024\\ML Seminar\\data\\Rawdata\\data_ch_sample_5716.csv'\n",
    "#save_path = r'C:\\Users\\frank\\OneDrive - Escuela Superior de Economia y Negocios\\2. SS 2024\\ML Seminar\\data\\Rawdata\\data_ch_sample2.csv'\n",
    "\n",
    "data_ch_sample.to_csv(save_path, index=False)"
   ]
  },
  {
   "cell_type": "code",
   "execution_count": null,
   "metadata": {},
   "outputs": [],
   "source": [
    "del(data_ch_sample)\n",
    "del(columns_to_remove)\n",
    "del([nddt,save_path,stdt])"
   ]
  },
  {
   "cell_type": "code",
   "execution_count": null,
   "metadata": {},
   "outputs": [],
   "source": [
    "# Define the path to the saved dataset\n",
    "file_path = r'C:\\Users\\frank\\OneDrive - Escuela Superior de Economia y Negocios\\2. SS 2024\\ML Seminar\\data\\Rawdata\\data_ch_sample.csv'\n",
    "\n",
    "# Load the dataset\n",
    "data_ch_sample = pd.read_csv(file_path)\n",
    "\n",
    "# Display the first few rows to confirm it's loaded correctly\n",
    "print(data_ch_sample.head())"
   ]
  }
 ],
 "metadata": {
  "kernelspec": {
   "display_name": "lmuml",
   "language": "python",
   "name": "python3"
  },
  "language_info": {
   "codemirror_mode": {
    "name": "ipython",
    "version": 3
   },
   "file_extension": ".py",
   "mimetype": "text/x-python",
   "name": "python",
   "nbconvert_exporter": "python",
   "pygments_lexer": "ipython3",
   "version": "3.12.3"
  }
 },
 "nbformat": 4,
 "nbformat_minor": 2
}
